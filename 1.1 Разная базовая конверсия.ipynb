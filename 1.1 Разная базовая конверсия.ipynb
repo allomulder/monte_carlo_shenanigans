{
 "cells": [
  {
   "cell_type": "markdown",
   "id": "5c293b34-1036-434c-83f4-a9adb09ad80b",
   "metadata": {},
   "source": [
    "# Фоллоуап: разная базовая конверсия\n",
    "\n",
    "В прошлой работе я упоминал, что очень важно не просто полагаться на показанные мной закономерности, а считать мощность/FPR для вашего конкретного случая. Сейчас я попробую продемонстрировать это наглядно и объяснить, почему так получается."
   ]
  },
  {
   "cell_type": "code",
   "execution_count": 1,
   "id": "9b22c85b-badb-4618-b456-ac60e0a56d69",
   "metadata": {},
   "outputs": [],
   "source": [
    "import numpy as np #для симуляций и ряда вспомогательных функций\n",
    "import pandas as pd #создание датафреймов, имеет вспомогательную роль\n",
    "import scipy.stats as st #\"классические\" статметоды и бутстрап\n",
    "import statsmodels.api as sm #регрессия\n",
    "import patsy #дизайн-матрицы\n",
    "import seaborn as sns #отрисовка результатов\n",
    "from tqdm.auto import tqdm #шкала прогресса\n",
    "\n",
    "#эта функция создаёт генератор случайных чисел, который пригодится нам для симуляций\n",
    "rng = np.random.default_rng()\n",
    "\n",
    "#это уберёт предупреждения, которые могут выкидывать некоторые методы\n",
    "import warnings\n",
    "warnings.filterwarnings(\"ignore\")"
   ]
  },
  {
   "cell_type": "markdown",
   "id": "f31f33f0-d58e-4962-a3fc-5b7b43d094d4",
   "metadata": {},
   "source": [
    "## 1. Симуляции (опять)\n",
    "\n",
    "В этот раз я не буду делать функцию под каждый отдельный тест - вместо этого я создам одну функцию, которая проверяет на мощность/FPR все тесты сразу! Это и место экономит, и дополнительно упрощает сравнение: все тесты проверяются ровно на тех же данных, и разброс результатов между перезапусками не играет такой большой роли.\n",
    "\n",
    "Я решил не указывать тут бутстрап (т.к. долго) и Пуассон-регрессию (т.к. избыточно). Сравним хи-квадрат, t-тест и логистическую регрессию."
   ]
  },
  {
   "cell_type": "code",
   "execution_count": 5,
   "id": "b9e53891-613e-4cb4-a07a-ad2d92881d0e",
   "metadata": {},
   "outputs": [],
   "source": [
    "def three_power_uneq(conv_control, conv_test, sample_size, test_prop, num_iter, rng, alpha=0.05):\n",
    "\n",
    "    '''\n",
    "    Функция считает мощность для трёх тестов методом Монте-Карло (независимые наблюдения, неравный размер групп).\n",
    "\n",
    "    * conv_control - значение конверсии в контрольной группе\n",
    "    * conv_test - значение конверсии в тестовой группе\n",
    "    * sample_size - размер выборки (контрольная группа)\n",
    "    * test_prop - какую пропорцию составляет размер тестовой группы от размера контрольной\n",
    "    * num_iter - количество симуляций Монте-Карло\n",
    "    * rng - генератор случайных чисел\n",
    "    * alpha - уровень значимости (по умолчанию 0.05)\n",
    "    \n",
    "    '''\n",
    "    #в списки мы будем складывать результаты тестов\n",
    "    pvals_chi = [] #хи-квадрат\n",
    "    pvals_t = [] #t-тест\n",
    "    pvals_logit = [] #логистическая регрессия\n",
    "\n",
    "    #повторяем процедуру несколько раз\n",
    "    for _ in range(num_iter):\n",
    "\n",
    "        control = rng.binomial(n=1, p=conv_control, size=sample_size) #данные контрольной группы\n",
    "        test = rng.binomial(n=1, p=conv_test, size=round(sample_size*test_prop)) #данные тестовой группы\n",
    "\n",
    "        data = np.concatenate([control, test]) #общая переменная с данными групп\n",
    "        group = np.concatenate([np.repeat(0, repeats=sample_size), np.repeat(1, repeats=round(sample_size*test_prop))]) #индикаторы принадлежности наблюдения к группе\n",
    "\n",
    "        #на основе полученных данных строим таблицу сопряженности\n",
    "        #используем тест, извлекаем p-value\n",
    "        #сравниваем его с alpha и результат сохраняем в список pvals\n",
    "        pvals_chi.append(st.chi2_contingency(st.contingency.crosstab(group, data).count).pvalue < alpha)\n",
    "        pvals_t.append(st.ttest_ind(control, test, equal_var=False).pvalue < alpha)\n",
    "        pvals_logit.append(sm.Logit(data, sm.add_constant(group)).fit(disp=False).pvalues[1] < alpha)\n",
    "\n",
    "    #и считаем, какую долю от общего количества значений составляют True\n",
    "    #можно посчитать сумму True и поделить на длину списка\n",
    "    #а можно просто посчитать среднее, это математически эквивалентно\n",
    "    #делаем из этого всего датафрейм\n",
    "\n",
    "    if conv_control != conv_test:\n",
    "        col_name = \"Power\"\n",
    "    else:\n",
    "        col_name = \"FPR\"\n",
    "\n",
    "    df_res = pd.DataFrame({\"Sample\":sample_size, \"Proportion\":test_prop, \n",
    "                           \"Test\":[\"Chi-square\", \"T-test\", \"Logistic reg.\"], \n",
    "                           col_name:[np.mean(pvals_chi), np.mean(pvals_t), np.mean(pvals_logit)]})\n",
    "    return(df_res)"
   ]
  },
  {
   "cell_type": "markdown",
   "id": "7d2ed7f2-0997-454d-adc5-20b6a6bd6ac9",
   "metadata": {},
   "source": [
    "Для проверки запустим код с теми же настройками, что было раньше - 20% в контроле, 25% в тесте:"
   ]
  },
  {
   "cell_type": "code",
   "execution_count": 14,
   "id": "82f2adf0-b543-4a89-bdde-347d3783e5f3",
   "metadata": {
    "scrolled": true
   },
   "outputs": [
    {
     "data": {
      "text/html": [
       "<div>\n",
       "<style scoped>\n",
       "    .dataframe tbody tr th:only-of-type {\n",
       "        vertical-align: middle;\n",
       "    }\n",
       "\n",
       "    .dataframe tbody tr th {\n",
       "        vertical-align: top;\n",
       "    }\n",
       "\n",
       "    .dataframe thead th {\n",
       "        text-align: right;\n",
       "    }\n",
       "</style>\n",
       "<table border=\"1\" class=\"dataframe\">\n",
       "  <thead>\n",
       "    <tr style=\"text-align: right;\">\n",
       "      <th></th>\n",
       "      <th>Sample</th>\n",
       "      <th>Proportion</th>\n",
       "      <th>Test</th>\n",
       "      <th>Power</th>\n",
       "    </tr>\n",
       "  </thead>\n",
       "  <tbody>\n",
       "    <tr>\n",
       "      <th>0</th>\n",
       "      <td>1000</td>\n",
       "      <td>1</td>\n",
       "      <td>Chi-square</td>\n",
       "      <td>0.7534</td>\n",
       "    </tr>\n",
       "    <tr>\n",
       "      <th>1</th>\n",
       "      <td>1000</td>\n",
       "      <td>1</td>\n",
       "      <td>T-test</td>\n",
       "      <td>0.7694</td>\n",
       "    </tr>\n",
       "    <tr>\n",
       "      <th>2</th>\n",
       "      <td>1000</td>\n",
       "      <td>1</td>\n",
       "      <td>Logistic reg.</td>\n",
       "      <td>0.7689</td>\n",
       "    </tr>\n",
       "  </tbody>\n",
       "</table>\n",
       "</div>"
      ],
      "text/plain": [
       "   Sample  Proportion           Test   Power\n",
       "0    1000           1     Chi-square  0.7534\n",
       "1    1000           1         T-test  0.7694\n",
       "2    1000           1  Logistic reg.  0.7689"
      ]
     },
     "execution_count": 14,
     "metadata": {},
     "output_type": "execute_result"
    }
   ],
   "source": [
    "three_power_uneq(conv_control=0.2, conv_test=0.25, sample_size=1000, test_prop=1, rng=rng, num_iter=10000) #мощность, равные выборки"
   ]
  },
  {
   "cell_type": "code",
   "execution_count": 15,
   "id": "eacb753a-38ce-4b90-9da6-fa2698ce7b9c",
   "metadata": {},
   "outputs": [
    {
     "data": {
      "text/html": [
       "<div>\n",
       "<style scoped>\n",
       "    .dataframe tbody tr th:only-of-type {\n",
       "        vertical-align: middle;\n",
       "    }\n",
       "\n",
       "    .dataframe tbody tr th {\n",
       "        vertical-align: top;\n",
       "    }\n",
       "\n",
       "    .dataframe thead th {\n",
       "        text-align: right;\n",
       "    }\n",
       "</style>\n",
       "<table border=\"1\" class=\"dataframe\">\n",
       "  <thead>\n",
       "    <tr style=\"text-align: right;\">\n",
       "      <th></th>\n",
       "      <th>Sample</th>\n",
       "      <th>Proportion</th>\n",
       "      <th>Test</th>\n",
       "      <th>Power</th>\n",
       "    </tr>\n",
       "  </thead>\n",
       "  <tbody>\n",
       "    <tr>\n",
       "      <th>0</th>\n",
       "      <td>1000</td>\n",
       "      <td>0.05</td>\n",
       "      <td>Chi-square</td>\n",
       "      <td>0.1211</td>\n",
       "    </tr>\n",
       "    <tr>\n",
       "      <th>1</th>\n",
       "      <td>1000</td>\n",
       "      <td>0.05</td>\n",
       "      <td>T-test</td>\n",
       "      <td>0.0903</td>\n",
       "    </tr>\n",
       "    <tr>\n",
       "      <th>2</th>\n",
       "      <td>1000</td>\n",
       "      <td>0.05</td>\n",
       "      <td>Logistic reg.</td>\n",
       "      <td>0.1525</td>\n",
       "    </tr>\n",
       "  </tbody>\n",
       "</table>\n",
       "</div>"
      ],
      "text/plain": [
       "   Sample  Proportion           Test   Power\n",
       "0    1000        0.05     Chi-square  0.1211\n",
       "1    1000        0.05         T-test  0.0903\n",
       "2    1000        0.05  Logistic reg.  0.1525"
      ]
     },
     "execution_count": 15,
     "metadata": {},
     "output_type": "execute_result"
    }
   ],
   "source": [
    "three_power_uneq(conv_control=0.2, conv_test=0.25, sample_size=1000, test_prop=0.05, rng=rng, num_iter=10000) #мощность, неравные выборки"
   ]
  },
  {
   "cell_type": "code",
   "execution_count": 16,
   "id": "848f9fb6-71e8-405f-940f-4fc6f6b34827",
   "metadata": {},
   "outputs": [
    {
     "data": {
      "text/html": [
       "<div>\n",
       "<style scoped>\n",
       "    .dataframe tbody tr th:only-of-type {\n",
       "        vertical-align: middle;\n",
       "    }\n",
       "\n",
       "    .dataframe tbody tr th {\n",
       "        vertical-align: top;\n",
       "    }\n",
       "\n",
       "    .dataframe thead th {\n",
       "        text-align: right;\n",
       "    }\n",
       "</style>\n",
       "<table border=\"1\" class=\"dataframe\">\n",
       "  <thead>\n",
       "    <tr style=\"text-align: right;\">\n",
       "      <th></th>\n",
       "      <th>Sample</th>\n",
       "      <th>Proportion</th>\n",
       "      <th>Test</th>\n",
       "      <th>FPR</th>\n",
       "    </tr>\n",
       "  </thead>\n",
       "  <tbody>\n",
       "    <tr>\n",
       "      <th>0</th>\n",
       "      <td>1000</td>\n",
       "      <td>1</td>\n",
       "      <td>Chi-square</td>\n",
       "      <td>0.0419</td>\n",
       "    </tr>\n",
       "    <tr>\n",
       "      <th>1</th>\n",
       "      <td>1000</td>\n",
       "      <td>1</td>\n",
       "      <td>T-test</td>\n",
       "      <td>0.0479</td>\n",
       "    </tr>\n",
       "    <tr>\n",
       "      <th>2</th>\n",
       "      <td>1000</td>\n",
       "      <td>1</td>\n",
       "      <td>Logistic reg.</td>\n",
       "      <td>0.0476</td>\n",
       "    </tr>\n",
       "  </tbody>\n",
       "</table>\n",
       "</div>"
      ],
      "text/plain": [
       "   Sample  Proportion           Test     FPR\n",
       "0    1000           1     Chi-square  0.0419\n",
       "1    1000           1         T-test  0.0479\n",
       "2    1000           1  Logistic reg.  0.0476"
      ]
     },
     "execution_count": 16,
     "metadata": {},
     "output_type": "execute_result"
    }
   ],
   "source": [
    "three_power_uneq(conv_control=0.2, conv_test=0.2, sample_size=1000, test_prop=1, rng=rng, num_iter=10000) #FPR, равные выборки"
   ]
  },
  {
   "cell_type": "code",
   "execution_count": 17,
   "id": "cd793bff-61fa-45be-9c70-633a966bd107",
   "metadata": {},
   "outputs": [
    {
     "data": {
      "text/html": [
       "<div>\n",
       "<style scoped>\n",
       "    .dataframe tbody tr th:only-of-type {\n",
       "        vertical-align: middle;\n",
       "    }\n",
       "\n",
       "    .dataframe tbody tr th {\n",
       "        vertical-align: top;\n",
       "    }\n",
       "\n",
       "    .dataframe thead th {\n",
       "        text-align: right;\n",
       "    }\n",
       "</style>\n",
       "<table border=\"1\" class=\"dataframe\">\n",
       "  <thead>\n",
       "    <tr style=\"text-align: right;\">\n",
       "      <th></th>\n",
       "      <th>Sample</th>\n",
       "      <th>Proportion</th>\n",
       "      <th>Test</th>\n",
       "      <th>FPR</th>\n",
       "    </tr>\n",
       "  </thead>\n",
       "  <tbody>\n",
       "    <tr>\n",
       "      <th>0</th>\n",
       "      <td>1000</td>\n",
       "      <td>0.05</td>\n",
       "      <td>Chi-square</td>\n",
       "      <td>0.0320</td>\n",
       "    </tr>\n",
       "    <tr>\n",
       "      <th>1</th>\n",
       "      <td>1000</td>\n",
       "      <td>0.05</td>\n",
       "      <td>T-test</td>\n",
       "      <td>0.0600</td>\n",
       "    </tr>\n",
       "    <tr>\n",
       "      <th>2</th>\n",
       "      <td>1000</td>\n",
       "      <td>0.05</td>\n",
       "      <td>Logistic reg.</td>\n",
       "      <td>0.0443</td>\n",
       "    </tr>\n",
       "  </tbody>\n",
       "</table>\n",
       "</div>"
      ],
      "text/plain": [
       "   Sample  Proportion           Test     FPR\n",
       "0    1000        0.05     Chi-square  0.0320\n",
       "1    1000        0.05         T-test  0.0600\n",
       "2    1000        0.05  Logistic reg.  0.0443"
      ]
     },
     "execution_count": 17,
     "metadata": {},
     "output_type": "execute_result"
    }
   ],
   "source": [
    "three_power_uneq(conv_control=0.2, conv_test=0.2, sample_size=1000, test_prop=0.05, rng=rng, num_iter=10000) #FPR, неравные выборки"
   ]
  },
  {
   "cell_type": "markdown",
   "id": "16e84cd3-5255-4450-9e73-326127c71ef4",
   "metadata": {},
   "source": [
    "Пока наблюдаем все те же самые паттерны и числа, что и до этого. Более того, теперь видно, что на самом деле логистическая регрессия самую чуточку менее чувствительна, чем t-тест (на доли процента).\n",
    "\n",
    "Теперь посчитаем для других конверсий - 5% в контроле и 10% в тесте:"
   ]
  },
  {
   "cell_type": "code",
   "execution_count": 6,
   "id": "1da4b277-fd44-4ffa-ae16-1babcc3cde45",
   "metadata": {
    "scrolled": true
   },
   "outputs": [
    {
     "data": {
      "text/html": [
       "<div>\n",
       "<style scoped>\n",
       "    .dataframe tbody tr th:only-of-type {\n",
       "        vertical-align: middle;\n",
       "    }\n",
       "\n",
       "    .dataframe tbody tr th {\n",
       "        vertical-align: top;\n",
       "    }\n",
       "\n",
       "    .dataframe thead th {\n",
       "        text-align: right;\n",
       "    }\n",
       "</style>\n",
       "<table border=\"1\" class=\"dataframe\">\n",
       "  <thead>\n",
       "    <tr style=\"text-align: right;\">\n",
       "      <th></th>\n",
       "      <th>Sample</th>\n",
       "      <th>Proportion</th>\n",
       "      <th>Test</th>\n",
       "      <th>Power</th>\n",
       "    </tr>\n",
       "  </thead>\n",
       "  <tbody>\n",
       "    <tr>\n",
       "      <th>0</th>\n",
       "      <td>1000</td>\n",
       "      <td>1</td>\n",
       "      <td>Chi-square</td>\n",
       "      <td>0.9888</td>\n",
       "    </tr>\n",
       "    <tr>\n",
       "      <th>1</th>\n",
       "      <td>1000</td>\n",
       "      <td>1</td>\n",
       "      <td>T-test</td>\n",
       "      <td>0.9905</td>\n",
       "    </tr>\n",
       "    <tr>\n",
       "      <th>2</th>\n",
       "      <td>1000</td>\n",
       "      <td>1</td>\n",
       "      <td>Logistic reg.</td>\n",
       "      <td>0.9905</td>\n",
       "    </tr>\n",
       "  </tbody>\n",
       "</table>\n",
       "</div>"
      ],
      "text/plain": [
       "   Sample  Proportion           Test   Power\n",
       "0    1000           1     Chi-square  0.9888\n",
       "1    1000           1         T-test  0.9905\n",
       "2    1000           1  Logistic reg.  0.9905"
      ]
     },
     "execution_count": 6,
     "metadata": {},
     "output_type": "execute_result"
    }
   ],
   "source": [
    "three_power_uneq(conv_control=0.05, conv_test=0.1, sample_size=1000, test_prop=1, rng=rng, num_iter=10000)"
   ]
  },
  {
   "cell_type": "code",
   "execution_count": 7,
   "id": "7c6e8678-1712-4268-ba8f-fdd40a44d4cd",
   "metadata": {},
   "outputs": [
    {
     "data": {
      "text/html": [
       "<div>\n",
       "<style scoped>\n",
       "    .dataframe tbody tr th:only-of-type {\n",
       "        vertical-align: middle;\n",
       "    }\n",
       "\n",
       "    .dataframe tbody tr th {\n",
       "        vertical-align: top;\n",
       "    }\n",
       "\n",
       "    .dataframe thead th {\n",
       "        text-align: right;\n",
       "    }\n",
       "</style>\n",
       "<table border=\"1\" class=\"dataframe\">\n",
       "  <thead>\n",
       "    <tr style=\"text-align: right;\">\n",
       "      <th></th>\n",
       "      <th>Sample</th>\n",
       "      <th>Proportion</th>\n",
       "      <th>Test</th>\n",
       "      <th>Power</th>\n",
       "    </tr>\n",
       "  </thead>\n",
       "  <tbody>\n",
       "    <tr>\n",
       "      <th>0</th>\n",
       "      <td>1000</td>\n",
       "      <td>0.05</td>\n",
       "      <td>Chi-square</td>\n",
       "      <td>0.2876</td>\n",
       "    </tr>\n",
       "    <tr>\n",
       "      <th>1</th>\n",
       "      <td>1000</td>\n",
       "      <td>0.05</td>\n",
       "      <td>T-test</td>\n",
       "      <td>0.1157</td>\n",
       "    </tr>\n",
       "    <tr>\n",
       "      <th>2</th>\n",
       "      <td>1000</td>\n",
       "      <td>0.05</td>\n",
       "      <td>Logistic reg.</td>\n",
       "      <td>0.3490</td>\n",
       "    </tr>\n",
       "  </tbody>\n",
       "</table>\n",
       "</div>"
      ],
      "text/plain": [
       "   Sample  Proportion           Test   Power\n",
       "0    1000        0.05     Chi-square  0.2876\n",
       "1    1000        0.05         T-test  0.1157\n",
       "2    1000        0.05  Logistic reg.  0.3490"
      ]
     },
     "execution_count": 7,
     "metadata": {},
     "output_type": "execute_result"
    }
   ],
   "source": [
    "three_power_uneq(conv_control=0.05, conv_test=0.1, sample_size=1000, test_prop=0.05, rng=rng, num_iter=10000)"
   ]
  },
  {
   "cell_type": "code",
   "execution_count": 8,
   "id": "82be4009-363f-45d0-897e-770d8ac5ca69",
   "metadata": {},
   "outputs": [
    {
     "data": {
      "text/html": [
       "<div>\n",
       "<style scoped>\n",
       "    .dataframe tbody tr th:only-of-type {\n",
       "        vertical-align: middle;\n",
       "    }\n",
       "\n",
       "    .dataframe tbody tr th {\n",
       "        vertical-align: top;\n",
       "    }\n",
       "\n",
       "    .dataframe thead th {\n",
       "        text-align: right;\n",
       "    }\n",
       "</style>\n",
       "<table border=\"1\" class=\"dataframe\">\n",
       "  <thead>\n",
       "    <tr style=\"text-align: right;\">\n",
       "      <th></th>\n",
       "      <th>Sample</th>\n",
       "      <th>Proportion</th>\n",
       "      <th>Test</th>\n",
       "      <th>FPR</th>\n",
       "    </tr>\n",
       "  </thead>\n",
       "  <tbody>\n",
       "    <tr>\n",
       "      <th>0</th>\n",
       "      <td>1000</td>\n",
       "      <td>1</td>\n",
       "      <td>Chi-square</td>\n",
       "      <td>0.0385</td>\n",
       "    </tr>\n",
       "    <tr>\n",
       "      <th>1</th>\n",
       "      <td>1000</td>\n",
       "      <td>1</td>\n",
       "      <td>T-test</td>\n",
       "      <td>0.0492</td>\n",
       "    </tr>\n",
       "    <tr>\n",
       "      <th>2</th>\n",
       "      <td>1000</td>\n",
       "      <td>1</td>\n",
       "      <td>Logistic reg.</td>\n",
       "      <td>0.0481</td>\n",
       "    </tr>\n",
       "  </tbody>\n",
       "</table>\n",
       "</div>"
      ],
      "text/plain": [
       "   Sample  Proportion           Test     FPR\n",
       "0    1000           1     Chi-square  0.0385\n",
       "1    1000           1         T-test  0.0492\n",
       "2    1000           1  Logistic reg.  0.0481"
      ]
     },
     "execution_count": 8,
     "metadata": {},
     "output_type": "execute_result"
    }
   ],
   "source": [
    "three_power_uneq(conv_control=0.05, conv_test=0.05, sample_size=1000, test_prop=1, rng=rng, num_iter=10000)"
   ]
  },
  {
   "cell_type": "code",
   "execution_count": 9,
   "id": "46b492cd-b537-46d7-b681-f7a6ac4b9629",
   "metadata": {},
   "outputs": [
    {
     "data": {
      "text/html": [
       "<div>\n",
       "<style scoped>\n",
       "    .dataframe tbody tr th:only-of-type {\n",
       "        vertical-align: middle;\n",
       "    }\n",
       "\n",
       "    .dataframe tbody tr th {\n",
       "        vertical-align: top;\n",
       "    }\n",
       "\n",
       "    .dataframe thead th {\n",
       "        text-align: right;\n",
       "    }\n",
       "</style>\n",
       "<table border=\"1\" class=\"dataframe\">\n",
       "  <thead>\n",
       "    <tr style=\"text-align: right;\">\n",
       "      <th></th>\n",
       "      <th>Sample</th>\n",
       "      <th>Proportion</th>\n",
       "      <th>Test</th>\n",
       "      <th>FPR</th>\n",
       "    </tr>\n",
       "  </thead>\n",
       "  <tbody>\n",
       "    <tr>\n",
       "      <th>0</th>\n",
       "      <td>1000</td>\n",
       "      <td>0.05</td>\n",
       "      <td>Chi-square</td>\n",
       "      <td>0.0235</td>\n",
       "    </tr>\n",
       "    <tr>\n",
       "      <th>1</th>\n",
       "      <td>1000</td>\n",
       "      <td>0.05</td>\n",
       "      <td>T-test</td>\n",
       "      <td>0.0862</td>\n",
       "    </tr>\n",
       "    <tr>\n",
       "      <th>2</th>\n",
       "      <td>1000</td>\n",
       "      <td>0.05</td>\n",
       "      <td>Logistic reg.</td>\n",
       "      <td>0.0371</td>\n",
       "    </tr>\n",
       "  </tbody>\n",
       "</table>\n",
       "</div>"
      ],
      "text/plain": [
       "   Sample  Proportion           Test     FPR\n",
       "0    1000        0.05     Chi-square  0.0235\n",
       "1    1000        0.05         T-test  0.0862\n",
       "2    1000        0.05  Logistic reg.  0.0371"
      ]
     },
     "execution_count": 9,
     "metadata": {},
     "output_type": "execute_result"
    }
   ],
   "source": [
    "three_power_uneq(conv_control=0.05, conv_test=0.05, sample_size=1000, test_prop=0.05, rng=rng, num_iter=10000)"
   ]
  },
  {
   "cell_type": "markdown",
   "id": "a76f228a-21b3-4e75-b02a-184cbc8145fe",
   "metadata": {},
   "source": [
    "Опаньки. Смотрите, что получилось:\n",
    "\n",
    "1. Несмотря на то, что мы проверяем (казалось бы) тот же размер эффекта, мощность резко увеличилась\n",
    "2. При диспропорции выборок различия между тестами стали более подчёркнутыми: t-тест ведёт себя хуже, а логистическая регрессия - лучше по всем фронтам\n",
    "\n",
    "А теперь возьмём 50% в контроле и 55% в тесте:"
   ]
  },
  {
   "cell_type": "code",
   "execution_count": 10,
   "id": "cfe0a467-e5c4-4354-9d0c-6f811dd59624",
   "metadata": {},
   "outputs": [
    {
     "data": {
      "text/html": [
       "<div>\n",
       "<style scoped>\n",
       "    .dataframe tbody tr th:only-of-type {\n",
       "        vertical-align: middle;\n",
       "    }\n",
       "\n",
       "    .dataframe tbody tr th {\n",
       "        vertical-align: top;\n",
       "    }\n",
       "\n",
       "    .dataframe thead th {\n",
       "        text-align: right;\n",
       "    }\n",
       "</style>\n",
       "<table border=\"1\" class=\"dataframe\">\n",
       "  <thead>\n",
       "    <tr style=\"text-align: right;\">\n",
       "      <th></th>\n",
       "      <th>Sample</th>\n",
       "      <th>Proportion</th>\n",
       "      <th>Test</th>\n",
       "      <th>Power</th>\n",
       "    </tr>\n",
       "  </thead>\n",
       "  <tbody>\n",
       "    <tr>\n",
       "      <th>0</th>\n",
       "      <td>1000</td>\n",
       "      <td>1</td>\n",
       "      <td>Chi-square</td>\n",
       "      <td>0.5939</td>\n",
       "    </tr>\n",
       "    <tr>\n",
       "      <th>1</th>\n",
       "      <td>1000</td>\n",
       "      <td>1</td>\n",
       "      <td>T-test</td>\n",
       "      <td>0.6097</td>\n",
       "    </tr>\n",
       "    <tr>\n",
       "      <th>2</th>\n",
       "      <td>1000</td>\n",
       "      <td>1</td>\n",
       "      <td>Logistic reg.</td>\n",
       "      <td>0.6097</td>\n",
       "    </tr>\n",
       "  </tbody>\n",
       "</table>\n",
       "</div>"
      ],
      "text/plain": [
       "   Sample  Proportion           Test   Power\n",
       "0    1000           1     Chi-square  0.5939\n",
       "1    1000           1         T-test  0.6097\n",
       "2    1000           1  Logistic reg.  0.6097"
      ]
     },
     "execution_count": 10,
     "metadata": {},
     "output_type": "execute_result"
    }
   ],
   "source": [
    "three_power_uneq(conv_control=0.5, conv_test=0.55, sample_size=1000, test_prop=1, rng=rng, num_iter=10000)"
   ]
  },
  {
   "cell_type": "code",
   "execution_count": 11,
   "id": "fd0047f7-d851-4daf-8798-901872ec5ca0",
   "metadata": {},
   "outputs": [
    {
     "data": {
      "text/html": [
       "<div>\n",
       "<style scoped>\n",
       "    .dataframe tbody tr th:only-of-type {\n",
       "        vertical-align: middle;\n",
       "    }\n",
       "\n",
       "    .dataframe tbody tr th {\n",
       "        vertical-align: top;\n",
       "    }\n",
       "\n",
       "    .dataframe thead th {\n",
       "        text-align: right;\n",
       "    }\n",
       "</style>\n",
       "<table border=\"1\" class=\"dataframe\">\n",
       "  <thead>\n",
       "    <tr style=\"text-align: right;\">\n",
       "      <th></th>\n",
       "      <th>Sample</th>\n",
       "      <th>Proportion</th>\n",
       "      <th>Test</th>\n",
       "      <th>Power</th>\n",
       "    </tr>\n",
       "  </thead>\n",
       "  <tbody>\n",
       "    <tr>\n",
       "      <th>0</th>\n",
       "      <td>1000</td>\n",
       "      <td>0.05</td>\n",
       "      <td>Chi-square</td>\n",
       "      <td>0.0809</td>\n",
       "    </tr>\n",
       "    <tr>\n",
       "      <th>1</th>\n",
       "      <td>1000</td>\n",
       "      <td>0.05</td>\n",
       "      <td>T-test</td>\n",
       "      <td>0.1071</td>\n",
       "    </tr>\n",
       "    <tr>\n",
       "      <th>2</th>\n",
       "      <td>1000</td>\n",
       "      <td>0.05</td>\n",
       "      <td>Logistic reg.</td>\n",
       "      <td>0.1023</td>\n",
       "    </tr>\n",
       "  </tbody>\n",
       "</table>\n",
       "</div>"
      ],
      "text/plain": [
       "   Sample  Proportion           Test   Power\n",
       "0    1000        0.05     Chi-square  0.0809\n",
       "1    1000        0.05         T-test  0.1071\n",
       "2    1000        0.05  Logistic reg.  0.1023"
      ]
     },
     "execution_count": 11,
     "metadata": {},
     "output_type": "execute_result"
    }
   ],
   "source": [
    "three_power_uneq(conv_control=0.5, conv_test=0.55, sample_size=1000, test_prop=0.05, rng=rng, num_iter=10000)"
   ]
  },
  {
   "cell_type": "code",
   "execution_count": 12,
   "id": "727589d7-d2ab-4ad3-a47f-fdfbf170a5cb",
   "metadata": {},
   "outputs": [
    {
     "data": {
      "text/html": [
       "<div>\n",
       "<style scoped>\n",
       "    .dataframe tbody tr th:only-of-type {\n",
       "        vertical-align: middle;\n",
       "    }\n",
       "\n",
       "    .dataframe tbody tr th {\n",
       "        vertical-align: top;\n",
       "    }\n",
       "\n",
       "    .dataframe thead th {\n",
       "        text-align: right;\n",
       "    }\n",
       "</style>\n",
       "<table border=\"1\" class=\"dataframe\">\n",
       "  <thead>\n",
       "    <tr style=\"text-align: right;\">\n",
       "      <th></th>\n",
       "      <th>Sample</th>\n",
       "      <th>Proportion</th>\n",
       "      <th>Test</th>\n",
       "      <th>FPR</th>\n",
       "    </tr>\n",
       "  </thead>\n",
       "  <tbody>\n",
       "    <tr>\n",
       "      <th>0</th>\n",
       "      <td>1000</td>\n",
       "      <td>1</td>\n",
       "      <td>Chi-square</td>\n",
       "      <td>0.0420</td>\n",
       "    </tr>\n",
       "    <tr>\n",
       "      <th>1</th>\n",
       "      <td>1000</td>\n",
       "      <td>1</td>\n",
       "      <td>T-test</td>\n",
       "      <td>0.0478</td>\n",
       "    </tr>\n",
       "    <tr>\n",
       "      <th>2</th>\n",
       "      <td>1000</td>\n",
       "      <td>1</td>\n",
       "      <td>Logistic reg.</td>\n",
       "      <td>0.0478</td>\n",
       "    </tr>\n",
       "  </tbody>\n",
       "</table>\n",
       "</div>"
      ],
      "text/plain": [
       "   Sample  Proportion           Test     FPR\n",
       "0    1000           1     Chi-square  0.0420\n",
       "1    1000           1         T-test  0.0478\n",
       "2    1000           1  Logistic reg.  0.0478"
      ]
     },
     "execution_count": 12,
     "metadata": {},
     "output_type": "execute_result"
    }
   ],
   "source": [
    "three_power_uneq(conv_control=0.5, conv_test=0.5, sample_size=1000, test_prop=1, rng=rng, num_iter=10000)"
   ]
  },
  {
   "cell_type": "code",
   "execution_count": 13,
   "id": "f2bf09bb-b500-44ec-900d-52eb2e39b098",
   "metadata": {},
   "outputs": [
    {
     "data": {
      "text/html": [
       "<div>\n",
       "<style scoped>\n",
       "    .dataframe tbody tr th:only-of-type {\n",
       "        vertical-align: middle;\n",
       "    }\n",
       "\n",
       "    .dataframe tbody tr th {\n",
       "        vertical-align: top;\n",
       "    }\n",
       "\n",
       "    .dataframe thead th {\n",
       "        text-align: right;\n",
       "    }\n",
       "</style>\n",
       "<table border=\"1\" class=\"dataframe\">\n",
       "  <thead>\n",
       "    <tr style=\"text-align: right;\">\n",
       "      <th></th>\n",
       "      <th>Sample</th>\n",
       "      <th>Proportion</th>\n",
       "      <th>Test</th>\n",
       "      <th>FPR</th>\n",
       "    </tr>\n",
       "  </thead>\n",
       "  <tbody>\n",
       "    <tr>\n",
       "      <th>0</th>\n",
       "      <td>1000</td>\n",
       "      <td>0.05</td>\n",
       "      <td>Chi-square</td>\n",
       "      <td>0.0337</td>\n",
       "    </tr>\n",
       "    <tr>\n",
       "      <th>1</th>\n",
       "      <td>1000</td>\n",
       "      <td>0.05</td>\n",
       "      <td>T-test</td>\n",
       "      <td>0.0480</td>\n",
       "    </tr>\n",
       "    <tr>\n",
       "      <th>2</th>\n",
       "      <td>1000</td>\n",
       "      <td>0.05</td>\n",
       "      <td>Logistic reg.</td>\n",
       "      <td>0.0452</td>\n",
       "    </tr>\n",
       "  </tbody>\n",
       "</table>\n",
       "</div>"
      ],
      "text/plain": [
       "   Sample  Proportion           Test     FPR\n",
       "0    1000        0.05     Chi-square  0.0337\n",
       "1    1000        0.05         T-test  0.0480\n",
       "2    1000        0.05  Logistic reg.  0.0452"
      ]
     },
     "execution_count": 13,
     "metadata": {},
     "output_type": "execute_result"
    }
   ],
   "source": [
    "three_power_uneq(conv_control=0.5, conv_test=0.5, sample_size=1000, test_prop=0.05, rng=rng, num_iter=10000)"
   ]
  },
  {
   "cell_type": "markdown",
   "id": "930408c0-dca0-49e9-93b5-195fda357ecd",
   "metadata": {},
   "source": [
    "Новый паттерн:\n",
    "\n",
    "1. Теперь мощность везде упала\n",
    "2. T-тест перестал быть худшим тестом - теперь он ведёт себя опять лучше всех и по мощности, и по FPR даже при выраженной диспропорции выборок\n",
    "\n",
    "Как так-то? Что здесь происходит?"
   ]
  },
  {
   "cell_type": "markdown",
   "id": "432c0ecc-3f32-44ae-9c6e-c2d93f39e2f2",
   "metadata": {},
   "source": [
    "## 2. Размер эффекта и дисперсия\n",
    "\n",
    "Ранее я описал размер эффекта как \"выраженность закономерности\". Это включает в себя не просто \"размер различия\" - это *размер различия относительно шума в данных*, иначе говоря, **дисперсии**.\n",
    "\n",
    "> Представьте себе, что у вас средний чек равен 10к рублей, и обычно заказы колеблются в диапазоне от 9к до 11к. После обновления средний чек стал 12к - это различие видно невооружённым глазом, так как обычно у вас таких чеков не бывает!\n",
    "> А теперь представьте ту же ситуацию, но чеки варьируются от 1к до 20к. В такой ситуации рост среднего чека до 12к мог произойти органично и без всяких воздействий - нужно собирать выборку, чтобы убедиться в систематичности этой закономерности.\n",
    "\n",
    "Что у нас по дисперсии в данных? Напоминаю, что конверсия у нас распределена согласно Бернулли - и имеет следующие формулы среднего и дисперсии:\n",
    "\n",
    "$$\\text{Среднее: p}$$\n",
    "$$\\text{Дисперсия: p(1-p)}$$\n",
    "\n",
    "Среднее и дисперсия в этом распределении управляются одним и тем же параметром вероятности успеха ($p$) - а значит, с изменением конверсии меняется и разброс значений в наших данных! Посмотрим, как именно:"
   ]
  },
  {
   "cell_type": "code",
   "execution_count": 19,
   "id": "530d62c8-faa3-4a36-903f-11b0384b2ece",
   "metadata": {},
   "outputs": [
    {
     "data": {
      "text/plain": [
       "<Axes: >"
      ]
     },
     "execution_count": 19,
     "metadata": {},
     "output_type": "execute_result"
    },
    {
     "data": {
      "image/png": "[encoded data removed]",
      "text/plain": [
       "<Figure size 640x480 with 1 Axes>"
      ]
     },
     "metadata": {},
     "output_type": "display_data"
    }
   ],
   "source": [
    "probs = np.arange(0.01, 1.0, 0.01) #вероятности от 0.01 до 0.99\n",
    "variances = probs * (1 - probs) #дисперсии для этих вероятностей\n",
    "sns.lineplot(x=probs, y=variances)"
   ]
  },
  {
   "cell_type": "markdown",
   "id": "da315048-1b24-4a50-8027-00cff6883b6b",
   "metadata": {},
   "source": [
    "Дисперсия максимальна при $p = 0.5$ и нулевая при $p = 0.0$ и $p = 1.0$. Иначе говоря, если наша конверсия очень маленькая или очень большая, то вам может быть проще обнаружить различие, чем при 50%-ой конверсии - потому что шума и непредсказуемости во втором случае больше! Это объясняет огромную мощность при 5%-10% - и очень низкую при 50%-55%, несмотря на одинаковое абсолютное различие в конверсиях.\n",
    "\n",
    "Соответственно, если варьировать не только значение контрольной конверсии, но и величину различия, вы будете получать очень разные результаты из-за того, как меняется дисперсия в обеих группах. "
   ]
  },
  {
   "attachments": {
    "028a995c-96f0-4547-b0d0-4f6364029a95.png": {
     "image/png": "[encoded data removed]"
    }
   },
   "cell_type": "markdown",
   "id": "b8ab8ab1-d9bd-46f9-b127-9bb2c8bb0847",
   "metadata": {},
   "source": [
    "## 3. Различия в предсказаниях моделей\n",
    "\n",
    "Теперь разберёмся, почему при маленькой конверсии (и очень большой, хоть я это и не показывал) t-тест начинает вести себя отвратительно, зато при близости к 50%-ой конверсии он снова оказывается оптимальным тестом с точки зрения практики. Для этого я нагло утырю картинку из [этого блога](https://www.alexpghayes.com/post/2019-08-31_consistency-and-the-linear-probability-model/), где наглядно показано, какие предсказания генерируют линейная и логистическая регрессия для бинарной переменной:\n",
    "\n",
    "![image.png](attachment:028a995c-96f0-4547-b0d0-4f6364029a95.png)\n",
    "\n",
    "Что здесь что?\n",
    "\n",
    "- **Gaussian GLM** - предсказания обычной линейной регрессии (напоминаю, что t-тест - разновидность линейной регрессии). Обратите внимание, что её предсказания все лежат на прямой линии и выходят за пределы 0 и 1 - это связано с допущением линейной регрессии, что изучаемая нами переменная лежит в диапазоне от $-\\infty$ до $+\\infty$, что не особо соответствует распределению Бернулли\n",
    "- **linear probability model** - та же линейная регрессия, но предсказания искусственно зажаты между 0 и 1. Для наших целей - никакой разницы с прошлым вариантом.\n",
    "- **binomial GLM** - это как раз логистическая регрессия (или подобная ей модель). Обратите внимание, что ближе к концам линия изгибается - эта модель уже знает, что переменная не может выходить за пределы 0 и 1 и уважает эти границы.\n",
    "\n",
    "Соответственно, эта картинка объясняет подобное поведение двух методов:\n",
    "\n",
    "1. При очень низких и очень высоких значениях конверсии логистическая модель более удачно отражает поведение нашей переменной, и при выраженной диспропорции выборок это ей играет на руку\n",
    "2. Ближе к середине предсказания логистической и линейной моделей совпадают, и более адаптированная для таких взаимосвязей линейная модель (=t-тест) справляется гораздо лучше\n",
    "\n",
    "А что с хи-квадратом? А он является непараметрическим методом. Непараметрические методы справляются лучше параметрических, когда их допущения не выполнены - и хуже, когда их допущения выполнены. Отсюда и такое поведение этого метода при диспропорции выборок, когда t-тест ломается, а логистическая регрессия - нет."
   ]
  },
  {
   "cell_type": "markdown",
   "id": "30fe4dc7-f0dc-4251-b048-2b6bc11a07bd",
   "metadata": {},
   "source": [
    "# Итоги\n",
    "\n",
    "Повторюсь: если вы считаете размер выборки для конверсии (да и не только её), очень важно делать расчёты для вашей конкретной ситуации! Для каждой пары значений конверсии в тесте и контроле значения мощности/FPR будут свои - и ответственность за выбор этих значений лежит на вас как на аналитике."
   ]
  }
 ],
 "metadata": {
  "kernelspec": {
   "display_name": "Python 3 (ipykernel)",
   "language": "python",
   "name": "python3"
  },
  "language_info": {
   "codemirror_mode": {
    "name": "ipython",
    "version": 3
   },
   "file_extension": ".py",
   "mimetype": "text/x-python",
   "name": "python",
   "nbconvert_exporter": "python",
   "pygments_lexer": "ipython3",
   "version": "3.8.18"
  }
 },
 "nbformat": 4,
 "nbformat_minor": 5
}
